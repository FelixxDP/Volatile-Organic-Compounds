{
 "cells": [
  {
   "cell_type": "code",
   "execution_count": null,
   "metadata": {},
   "outputs": [],
   "source": [
    "import pandas as pd\n",
    "import seaborn as sns\n",
    "import matplotlib.pyplot as plt\n",
    "\n",
    "df = pd.read_csv('LMR_VOCdata_97-19_DOW.csv')\n",
    "\n",
    "df['Datetime'] = pd.to_datetime(df['Datetime'], format='%Y-%m-%d %H:%M:%S',errors='coerce')\n",
    "VOCs = ['Ozone', 'Nitric oxide', 'Nitrogen dioxide',\n",
    "       'Sulphur dioxide', 'Carbon monoxide', 'ethane', 'ethene', 'ethyne',\n",
    "       'propane', 'propene', 'iso-butane', 'n-butane', '1-butene',\n",
    "       'trans-2-butene', 'cis-2-butene', 'iso-pentane', 'n-pentane',\n",
    "       '1,3-butadiene', 'trans-2-pentene', 'cis-2-pentene (VOC-AIR only)',\n",
    "       '2-methylpentane', '3-methylpentane (VOC-AIR only)', 'isoprene',\n",
    "       'n-hexane', 'n-heptane', 'benzene', 'toluene', 'ethylbenzene',\n",
    "       'm+p-xylene', 'o-xylene', '1,2,4-trimethylbenzene',\n",
    "       '1,3,5-trimethylbenzene']\n",
    "\n",
    "# code to select data from within a time period\n",
    "# dates to be in the form: '%Y-%m-%d %H:%M:%S'\n",
    "def select_data(start_date,end_date):\n",
    "    mask = (df['Datetime'] > start_date) & (df['Datetime'] < end_date)\n",
    "    data = df.loc[mask]\n",
    "    return data \n",
    "data = df"
   ]
  },
  {
   "cell_type": "code",
   "execution_count": null,
   "metadata": {},
   "outputs": [],
   "source": [
    "# if you want a specific year \n",
    "data = select_data('2016','2017')"
   ]
  },
  {
   "cell_type": "code",
   "execution_count": null,
   "metadata": {},
   "outputs": [],
   "source": [
    "corr = data[VOCs].corr()\n",
    "\n",
    "fig, ax = plt.subplots(figsize=(10,7.5))         # Sample figsize in inches\n",
    "dataplot = sns.heatmap(corr, cmap=\"coolwarm\",xticklabels=True, yticklabels=True,ax=ax)"
   ]
  },
  {
   "cell_type": "code",
   "execution_count": null,
   "metadata": {},
   "outputs": [],
   "source": [
    "corr['benzene'].sort_values(ascending =False)"
   ]
  }
 ],
 "metadata": {
  "kernelspec": {
   "display_name": "Python 3.8.3 ('base')",
   "language": "python",
   "name": "python3"
  },
  "language_info": {
   "name": "python",
   "version": "3.8.3"
  },
  "orig_nbformat": 4,
  "vscode": {
   "interpreter": {
    "hash": "3afd4a0547e04845928e658fd430b4fcba39dfae1857b6a0a4a25c7391c11d89"
   }
  }
 },
 "nbformat": 4,
 "nbformat_minor": 2
}
