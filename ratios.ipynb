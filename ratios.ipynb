{
 "cells": [
  {
   "cell_type": "code",
   "execution_count": 1,
   "metadata": {},
   "outputs": [],
   "source": [
    "from DataSelect import vocData, VOCS\n",
    "import pandas as pd\n",
    "import seaborn as sns\n",
    "import matplotlib.pyplot as plt\n",
    "import matplotlib.dates as mdates\n",
    "\n",
    "df = vocData().data"
   ]
  },
  {
   "cell_type": "code",
   "execution_count": 4,
   "metadata": {},
   "outputs": [],
   "source": [
    "for voc in VOCS:\n",
    "    name = str(voc)+'_benzene_ratio'\n",
    "    df[name] = df[voc]/df['benzene']\n",
    "    name1 = 'benzene_' + str(voc) + '_ratio'\n",
    "    df[name1] = df['benzene']/df[voc]"
   ]
  },
  {
   "cell_type": "code",
   "execution_count": null,
   "metadata": {},
   "outputs": [],
   "source": [
    "fig, axs = plt.subplots(32, tight_layout=True)\n",
    "fig.set_size_inches(18.5, 100)\n",
    "for i, voc in enumerate(VOCS):\n",
    "    half_year_locator = mdates.MonthLocator(interval=12)\n",
    "    axs[i].xaxis.set_major_locator(half_year_locator)\n",
    "    axs[i].plot(df.index, df[voc])\n",
    "    axs[i].set_title(voc)"
   ]
  },
  {
   "cell_type": "code",
   "execution_count": null,
   "metadata": {},
   "outputs": [],
   "source": [
    "fig, axs = plt.subplots(32, tight_layout=True)\n",
    "fig.set_size_inches(18.5, 100)\n",
    "for i, voc in enumerate(VOCS):\n",
    "\n",
    "    half_year_locator = mdates.MonthLocator(interval=12)\n",
    "    axs[i].xaxis.set_major_locator(half_year_locator)\n",
    "\n",
    "    ratioName = str(voc)+'_benzene_ratio'\n",
    "    # plot ratios: df[ratioName] gives ratio for\n",
    "    axs[i].plot(df.index, df[ratioName],'r')\n",
    "    axs[i].set_title(ratioName)"
   ]
  },
  {
   "cell_type": "code",
   "execution_count": null,
   "metadata": {},
   "outputs": [],
   "source": [
    "fig, axs = plt.subplots(32, tight_layout=True)\n",
    "fig.set_size_inches(18.5, 100)\n",
    "for i, voc in enumerate(VOCS):\n",
    "\n",
    "    half_year_locator = mdates.MonthLocator(interval=12)\n",
    "    axs[i].xaxis.set_major_locator(half_year_locator)\n",
    "\n",
    "    ratioName = 'benzene_' + str(voc) + '_ratio'\n",
    "    # plot ratio\n",
    "    axs[i].plot(df.index, df[ratioName],'g')\n",
    "    axs[i].set_title(ratioName)"
   ]
  }
 ],
 "metadata": {
  "kernelspec": {
   "display_name": "base",
   "language": "python",
   "name": "python3"
  },
  "language_info": {
   "codemirror_mode": {
    "name": "ipython",
    "version": 3
   },
   "file_extension": ".py",
   "mimetype": "text/x-python",
   "name": "python",
   "nbconvert_exporter": "python",
   "pygments_lexer": "ipython3",
   "version": "3.9.12"
  },
  "orig_nbformat": 4,
  "vscode": {
   "interpreter": {
    "hash": "8719c7259f5569193724a05043b98afa7d16e07761c72a426f7d03d21474a1d4"
   }
  }
 },
 "nbformat": 4,
 "nbformat_minor": 2
}
